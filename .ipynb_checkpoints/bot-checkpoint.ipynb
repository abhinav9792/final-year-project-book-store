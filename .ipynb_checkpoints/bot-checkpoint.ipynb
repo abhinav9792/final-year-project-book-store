{
 "cells": [
  {
   "cell_type": "code",
   "execution_count": 1,
   "id": "dbd39410",
   "metadata": {},
   "outputs": [],
   "source": [
    "import fitz\n",
    "import pandas as pd"
   ]
  },
  {
   "cell_type": "code",
   "execution_count": 2,
   "id": "164c6b6e",
   "metadata": {},
   "outputs": [
    {
     "name": "stdout",
     "output_type": "stream",
     "text": [
      "no of pages are 285\n"
     ]
    }
   ],
   "source": [
    "import fitz\n",
    "from fitz import PDF_ENCRYPT_KEEP\n",
    "import re\n",
    "pdf = fitz.open(\"high.pdf\")\n",
    "# #to count the number of pages\n",
    "print(\"no of pages are\",pdf.page_count)"
   ]
  },
  {
   "cell_type": "code",
   "execution_count": 3,
   "id": "62d76500",
   "metadata": {},
   "outputs": [
    {
     "name": "stdout",
     "output_type": "stream",
     "text": [
      "PDF 1.4\n"
     ]
    }
   ],
   "source": [
    "a=pdf.metadata\n",
    "print(a[\"format\"])"
   ]
  },
  {
   "cell_type": "code",
   "execution_count": 5,
   "id": "a386ce45",
   "metadata": {},
   "outputs": [
    {
     "name": "stdout",
     "output_type": "stream",
     "text": [
      "2 4 5 6 8 16 17 31 42 53 54 62 72 81 86 87 97 106 115 116 122 131 139 146 147 156 165 172 173 182 189 199 202 203 204 209 210 211 213 235 249 "
     ]
    }
   ],
   "source": [
    " # get table content\n",
    "for i in pdf.get_toc():\n",
    "    print(i[2],end=\" \")"
   ]
  },
  {
   "cell_type": "code",
   "execution_count": 6,
   "id": "3d4722af",
   "metadata": {},
   "outputs": [
    {
     "name": "stdout",
     "output_type": "stream",
     "text": [
      "Title Page 2\n",
      "Copyright 4\n",
      "Epigraph 5\n",
      "Contents 6\n",
      "Introduction: My Story 8\n",
      "THE FUNDAMENTALS: Why Tiny Changes Make a Big Difference 16\n",
      "1: The Surprising Power of Atomic Habits 17\n",
      "2: How Your Habits Shape Your Identity (and Vice Versa) 31\n",
      "3: How to Build Better Habits in 4 Simple Steps 42\n",
      "THE 1ST LAW: Make It Obvious 53\n",
      "4: The Man Who Didn’t Look Right 54\n",
      "5: The Best Way to Start a New Habit 62\n",
      "6: Motivation Is Overrated; Environment Often Matters More 72\n",
      "7: The Secret to Self-Control 81\n",
      "THE 2ND LAW: Make It Attractive 86\n",
      "8: How to Make a Habit Irresistible 87\n",
      "9: The Role of Family and Friends in Shaping Your Habits 97\n",
      "10: How to Find and Fix the Causes of Your Bad Habits 106\n",
      "THE 3RD LAW: Make It Easy 115\n",
      "11: Walk Slowly, but Never Backward 116\n",
      "12: The Law of Least Effort 122\n",
      "13: How to Stop Procrastinating by Using the Two-Minute Rule 131\n",
      "14: How to Make Good Habits Inevitable and Bad Habits Impossible 139\n",
      "THE 4TH LAW: Make It Satisfying 146\n",
      "15: The Cardinal Rule of Behavior Change 147\n",
      "16: How to Stick with Good Habits Every Day 156\n",
      "17: How an Accountability Partner Can Change Everything 165\n",
      "ADVANCED TACTICS: How to Go from Being Merely Good to Being Truly Great 172\n",
      "18: The Truth About Talent (When Genes Matter and When They Don’t) 173\n",
      "19: The Goldilocks Rule: How to Stay Motivated in Life and Work 182\n",
      "20: The Downside of Creating Good Habits 189\n",
      "Conclusion: The Secret to Results That Last 199\n",
      "Appendix 202\n",
      "What Should You Read Next? 203\n",
      "Little Lessons from the Four Laws 204\n",
      "How to Apply These Ideas to Business 209\n",
      "How to Apply These Ideas to Parenting 210\n",
      "Acknowledgments 211\n",
      "Notes 213\n",
      "Index 235\n",
      "About the Author 249\n"
     ]
    }
   ],
   "source": [
    "\n",
    "chap=[]\n",
    "for i in range(len(pdf.get_toc())):\n",
    "    chap.append(pdf.get_toc()[i])\n",
    "for i in range(chap.__len__()):\n",
    "    print(chap[i][1],chap[i][2])\n"
   ]
  },
  {
   "cell_type": "code",
   "execution_count": 7,
   "id": "6c39797c",
   "metadata": {},
   "outputs": [
    {
     "name": "stdout",
     "output_type": "stream",
     "text": [
      "The backbone of this book is my four-step model of habits—cue, craving, response, and reward—and the four laws of behavior change that evolve out of these steps. Readers with a psychology background may recognize some of these terms from operant conditioning, which was first proposed as “stimulus, response, reward” by B. F. Skinner in the 1930s and has been popularized more recently as “cue, routine, reward” in The Power of Habit by Charles Duhigg. Behavioral scientists like Skinner realized that if you offered the right reward or punishment, you could get people to act in a certain way. But while Skinner’s model did an excellent job of explaining how external stimuli influenced our habits, it lacked a good explanation for how our thoughts, feelings, and beliefs impact our behavior. Internal states—our moods and emotions—matter, too. In recent decades, scientists have begun to determine the connection between our thoughts, feelings, and behavior. This research will also be covered in these pages. In total, the framework I offer is an integrated model of the cognitive and behavioral sciences. I believe it is one of the first models of human behavior to accurately account for both the influence of external stimuli and internal emotions on our habits. While some of the language may be familiar, I am confident that the details—and the applications of the Four Laws of Behavior Change—will offer a new way to think about your habits. Human behavior is always changing: situation to situation, moment to moment, second to second. But this book is about what doesn’t change. It’s about the fundamentals of human behavior. The lasting principles you can rely on year after year. The ideas you can build a business around, build a family around, build a life around. There is no one right way to create better habits, but this book describes the best way I know—an approach that will be effective regardless of where you start or what you’re trying to change. The strategies I cover will be relevant to anyone looking for a step-by-step system for improvement, whether your goals center on health, money, productivity, relationships, or all of the above. As long as human behavior is involved, this book will be your guide.\n"
     ]
    }
   ],
   "source": [
    "page =pdf.load_page(14)\n",
    "text=page.get_text()\n",
    "print(\" \".join(text.split()))"
   ]
  },
  {
   "cell_type": "code",
   "execution_count": 8,
   "id": "9fde5b0b",
   "metadata": {},
   "outputs": [
    {
     "data": {
      "text/html": [
       "<div>\n",
       "<style scoped>\n",
       "    .dataframe tbody tr th:only-of-type {\n",
       "        vertical-align: middle;\n",
       "    }\n",
       "\n",
       "    .dataframe tbody tr th {\n",
       "        vertical-align: top;\n",
       "    }\n",
       "\n",
       "    .dataframe thead th {\n",
       "        text-align: right;\n",
       "    }\n",
       "</style>\n",
       "<table border=\"1\" class=\"dataframe\">\n",
       "  <thead>\n",
       "    <tr style=\"text-align: right;\">\n",
       "      <th></th>\n",
       "      <th>pgno</th>\n",
       "      <th>text</th>\n",
       "    </tr>\n",
       "  </thead>\n",
       "  <tbody>\n",
       "    <tr>\n",
       "      <th>0</th>\n",
       "      <td>0</td>\n",
       "      <td></td>\n",
       "    </tr>\n",
       "    <tr>\n",
       "      <th>1</th>\n",
       "      <td>1</td>\n",
       "      <td></td>\n",
       "    </tr>\n",
       "    <tr>\n",
       "      <th>2</th>\n",
       "      <td>2</td>\n",
       "      <td></td>\n",
       "    </tr>\n",
       "    <tr>\n",
       "      <th>3</th>\n",
       "      <td>3</td>\n",
       "      <td>AN IMPRINT OF PENGUIN RANDOM HOUSE LLC 375 Hud...</td>\n",
       "    </tr>\n",
       "    <tr>\n",
       "      <th>4</th>\n",
       "      <td>4</td>\n",
       "      <td>a·tom·ic əˈtämik 1. an extremely small amount ...</td>\n",
       "    </tr>\n",
       "    <tr>\n",
       "      <th>...</th>\n",
       "      <td>...</td>\n",
       "      <td>...</td>\n",
       "    </tr>\n",
       "    <tr>\n",
       "      <th>280</th>\n",
       "      <td>280</td>\n",
       "      <td>* The discovery of variable rewards happened b...</td>\n",
       "    </tr>\n",
       "    <tr>\n",
       "      <th>281</th>\n",
       "      <td>281</td>\n",
       "      <td>* I created a template for readers interested ...</td>\n",
       "    </tr>\n",
       "    <tr>\n",
       "      <th>282</th>\n",
       "      <td>282</td>\n",
       "      <td>* You can see my previous Annual Reviews at ja...</td>\n",
       "    </tr>\n",
       "    <tr>\n",
       "      <th>283</th>\n",
       "      <td>283</td>\n",
       "      <td>* You can see my previous Integrity Reports at...</td>\n",
       "    </tr>\n",
       "    <tr>\n",
       "      <th>284</th>\n",
       "      <td>284</td>\n",
       "      <td>* Sorites is derived from the Greek word sorós...</td>\n",
       "    </tr>\n",
       "  </tbody>\n",
       "</table>\n",
       "<p>285 rows × 2 columns</p>\n",
       "</div>"
      ],
      "text/plain": [
       "     pgno                                               text\n",
       "0       0                                                   \n",
       "1       1                                                   \n",
       "2       2                                                   \n",
       "3       3  AN IMPRINT OF PENGUIN RANDOM HOUSE LLC 375 Hud...\n",
       "4       4  a·tom·ic əˈtämik 1. an extremely small amount ...\n",
       "..    ...                                                ...\n",
       "280   280  * The discovery of variable rewards happened b...\n",
       "281   281  * I created a template for readers interested ...\n",
       "282   282  * You can see my previous Annual Reviews at ja...\n",
       "283   283  * You can see my previous Integrity Reports at...\n",
       "284   284  * Sorites is derived from the Greek word sorós...\n",
       "\n",
       "[285 rows x 2 columns]"
      ]
     },
     "execution_count": 8,
     "metadata": {},
     "output_type": "execute_result"
    }
   ],
   "source": [
    "pgno= []\n",
    "texts= []\n",
    "for i in range(pdf.page_count):\n",
    "    pgno.append(i)\n",
    "    \n",
    "    page =pdf.load_page(i)\n",
    "    page_text=page.get_text()\n",
    "    atext=(\" \".join(page_text.split()))\n",
    "    texts.append(atext)\n",
    "\n",
    "dict2={\"pgno\":pgno,\"text\": texts }\n",
    "r = pd.DataFrame(dict2)\n",
    "r\n",
    "    "
   ]
  },
  {
   "cell_type": "code",
   "execution_count": null,
   "id": "b3dc3324",
   "metadata": {},
   "outputs": [],
   "source": []
  }
 ],
 "metadata": {
  "kernelspec": {
   "display_name": "Python 3 (ipykernel)",
   "language": "python",
   "name": "python3"
  },
  "language_info": {
   "codemirror_mode": {
    "name": "ipython",
    "version": 3
   },
   "file_extension": ".py",
   "mimetype": "text/x-python",
   "name": "python",
   "nbconvert_exporter": "python",
   "pygments_lexer": "ipython3",
   "version": "3.8.0"
  }
 },
 "nbformat": 4,
 "nbformat_minor": 5
}
